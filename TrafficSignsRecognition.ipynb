{
 "cells": [
  {
   "cell_type": "code",
   "execution_count": 1,
   "id": "fb8fa160",
   "metadata": {},
   "outputs": [],
   "source": [
    "# This project aims at classifying traffic signs.\n",
    "# The dataset used comes from Kaggle and contains more than \n",
    "# 50 000 images classified into 43 different classes.\n",
    "# The dataset is quite varying, some classes have many images,\n",
    "# while others have few images. There are two folders : \n",
    "# the train folder with training images in it and the test folder \n",
    "# with images that will be used for testing."
   ]
  },
  {
   "cell_type": "code",
   "execution_count": 8,
   "id": "c8828587",
   "metadata": {},
   "outputs": [],
   "source": [
    "#!pip install opendatasets"
   ]
  },
  {
   "cell_type": "code",
   "execution_count": 3,
   "id": "3d19a772",
   "metadata": {},
   "outputs": [],
   "source": [
    "#import opendatasets as od"
   ]
  },
  {
   "cell_type": "code",
   "execution_count": 7,
   "id": "eec188dc",
   "metadata": {},
   "outputs": [],
   "source": [
    "#od.download(\"https://www.kaggle.com/meowmeowmeowmeowmeow/gtsrb-german-traffic-sign\")"
   ]
  },
  {
   "cell_type": "markdown",
   "id": "daafa65b",
   "metadata": {},
   "source": [
    "# Import libraries"
   ]
  },
  {
   "cell_type": "code",
   "execution_count": 8,
   "id": "c7e942bc",
   "metadata": {},
   "outputs": [],
   "source": [
    "import os\n",
    "import numpy as np\n",
    "import matplotlib.pyplot as plt\n",
    "from PIL import Image\n",
    "from sklearn.model_selection import train_test_split\n",
    "#import pandas as pd\n",
    "import tensorflow as tf\n",
    "#from keras.utils import to_categorical\n",
    "from tensorflow.keras.models import Sequential\n",
    "from tensorflow.keras.layers import Conv2D, MaxPooling2D, Dense, Flatten, Dropout"
   ]
  },
  {
   "cell_type": "markdown",
   "id": "2f6c1bcf",
   "metadata": {},
   "source": [
    "# Explore the dataset"
   ]
  },
  {
   "cell_type": "code",
   "execution_count": 2,
   "id": "66b97370",
   "metadata": {},
   "outputs": [],
   "source": [
    "training_dataset_name = 'gtsrb-german-traffic-sign\\Train'\n",
    "data = []\n",
    "labels = []\n",
    "classes = 43\n",
    "current_path = os.getcwd()\n",
    "\n",
    "for i in range(classes):\n",
    "    path = os.path.join(current_path, training_dataset_name,str(i))\n",
    "    list_of_images = os.listdir(path)\n",
    "    \n",
    "    for image_name in list_of_images:        \n",
    "        path_to_image = os.path.join(path, image_name)\n",
    "        #print(f'classe = {i}, Image = {path_to_image}')        \n",
    "        try:            \n",
    "            image = Image.open(path_to_image)\n",
    "            image = image.resize((30, 30))\n",
    "            image = np.array(image)\n",
    "            data.append(image)\n",
    "            labels.append(i)\n",
    "        except:\n",
    "            print(\"Error loading image\")\n",
    "    \n",
    "data = np.array(data)\n",
    "labels = np.array(labels)"
   ]
  },
  {
   "cell_type": "code",
   "execution_count": 9,
   "id": "e0481e66",
   "metadata": {},
   "outputs": [
    {
     "name": "stdout",
     "output_type": "stream",
     "text": [
      "(39209, 30, 30, 3) (39209,)\n",
      "Training data  = (31367, 30, 30, 3)\n",
      "Training labels = (31367,)\n",
      "Validation data  = (7842, 30, 30, 3)\n",
      "Validation labels = (7842,)\n",
      "(30, 30, 3)\n"
     ]
    }
   ],
   "source": [
    "print(data.shape, labels.shape)\n",
    "X_train, X_test, y_train, y_test = train_test_split(data, labels, test_size=0.2, random_state=42)\n",
    "\n",
    "print(f'Training data  = {X_train.shape}')\n",
    "print(f'Training labels = {y_train.shape}')\n",
    "print(f'Validation data  = {X_test.shape}')\n",
    "print(f'Validation labels = {y_test.shape}')\n",
    "\n",
    "print(X_train.shape[1:])\n",
    "#y_train = to_categorical(y_train, classes)\n",
    "#y_test = to_categorical(y_test, classes)"
   ]
  },
  {
   "cell_type": "markdown",
   "id": "ad2cfe8e",
   "metadata": {},
   "source": [
    "# Build CNN model"
   ]
  },
  {
   "cell_type": "code",
   "execution_count": 16,
   "id": "7f5c6e44",
   "metadata": {},
   "outputs": [],
   "source": [
    "model = Sequential([\n",
    "    Conv2D(filters=32, kernel_size=(5, 5), activation='relu', input_shape=X_train.shape[1:]),\n",
    "    Conv2D(filters=32, kernel_size=(5, 5), activation='relu'),\n",
    "    MaxPooling2D(pool_size=(2, 2)),\n",
    "    Dropout(rate=0.25),\n",
    "    Conv2D(filters=64, kernel_size=(3, 3), activation='relu'),\n",
    "    Conv2D(filters=64, kernel_size=(3, 2), activation='relu'),\n",
    "    MaxPooling2D(pool_size=(2, 2)),\n",
    "    Dropout(rate=0.25),\n",
    "    Flatten(),\n",
    "    Dense(units=256, activation='relu'),\n",
    "    Dropout(rate=0.25),\n",
    "    Dense(classes, activation='softmax')\n",
    "])"
   ]
  },
  {
   "cell_type": "code",
   "execution_count": 17,
   "id": "65a6f915",
   "metadata": {},
   "outputs": [],
   "source": [
    "# model.summary()"
   ]
  },
  {
   "cell_type": "code",
   "execution_count": 18,
   "id": "c8062603",
   "metadata": {},
   "outputs": [],
   "source": [
    "model.compile(loss='sparse_categorical_crossentropy', optimizer='adam', metrics=['accuracy'])"
   ]
  },
  {
   "cell_type": "code",
   "execution_count": 19,
   "id": "a163bff4",
   "metadata": {},
   "outputs": [
    {
     "name": "stdout",
     "output_type": "stream",
     "text": [
      "Epoch 1/15\n",
      "491/491 [==============================] - 67s 135ms/step - loss: 1.9216 - accuracy: 0.5247 - val_loss: 0.5325 - val_accuracy: 0.8743\n",
      "Epoch 2/15\n",
      "491/491 [==============================] - 71s 145ms/step - loss: 0.5538 - accuracy: 0.8429 - val_loss: 0.1857 - val_accuracy: 0.9584\n",
      "Epoch 3/15\n",
      "491/491 [==============================] - 70s 143ms/step - loss: 0.3500 - accuracy: 0.8977 - val_loss: 0.1087 - val_accuracy: 0.9704\n",
      "Epoch 4/15\n",
      "491/491 [==============================] - 67s 136ms/step - loss: 0.2646 - accuracy: 0.9220 - val_loss: 0.1022 - val_accuracy: 0.9725\n",
      "Epoch 5/15\n",
      "491/491 [==============================] - 71s 144ms/step - loss: 0.2256 - accuracy: 0.9349 - val_loss: 0.0761 - val_accuracy: 0.9786\n",
      "Epoch 6/15\n",
      "491/491 [==============================] - 67s 137ms/step - loss: 0.1942 - accuracy: 0.9433 - val_loss: 0.0503 - val_accuracy: 0.9874\n",
      "Epoch 7/15\n",
      "491/491 [==============================] - 66s 134ms/step - loss: 0.1683 - accuracy: 0.9501 - val_loss: 0.0439 - val_accuracy: 0.9888\n",
      "Epoch 8/15\n",
      "491/491 [==============================] - 66s 135ms/step - loss: 0.1555 - accuracy: 0.9552 - val_loss: 0.0519 - val_accuracy: 0.9865\n",
      "Epoch 9/15\n",
      "491/491 [==============================] - 66s 135ms/step - loss: 0.1410 - accuracy: 0.9600 - val_loss: 0.0552 - val_accuracy: 0.9848\n",
      "Epoch 10/15\n",
      "491/491 [==============================] - 71s 144ms/step - loss: 0.1433 - accuracy: 0.9604 - val_loss: 0.0778 - val_accuracy: 0.9776\n",
      "Epoch 11/15\n",
      "491/491 [==============================] - 68s 139ms/step - loss: 0.1219 - accuracy: 0.9635 - val_loss: 0.0363 - val_accuracy: 0.9902\n",
      "Epoch 12/15\n",
      "491/491 [==============================] - 69s 140ms/step - loss: 0.1183 - accuracy: 0.9664 - val_loss: 0.0392 - val_accuracy: 0.9888\n",
      "Epoch 13/15\n",
      "491/491 [==============================] - 66s 135ms/step - loss: 0.1241 - accuracy: 0.9660 - val_loss: 0.0366 - val_accuracy: 0.9895\n",
      "Epoch 14/15\n",
      "491/491 [==============================] - 68s 138ms/step - loss: 0.1091 - accuracy: 0.9692 - val_loss: 0.0503 - val_accuracy: 0.9874\n",
      "Epoch 15/15\n",
      "491/491 [==============================] - 73s 148ms/step - loss: 0.1313 - accuracy: 0.9633 - val_loss: 0.0689 - val_accuracy: 0.9832\n"
     ]
    }
   ],
   "source": [
    "epochs = 15\n",
    "batch_size = 64\n",
    "history = model.fit(X_train, y_train, batch_size=batch_size, epochs=epochs, validation_data=(X_test, y_test))"
   ]
  },
  {
   "cell_type": "markdown",
   "id": "3f6d3198",
   "metadata": {},
   "source": [
    "# plot learning curves"
   ]
  },
  {
   "cell_type": "code",
   "execution_count": 20,
   "id": "c0b990cb",
   "metadata": {},
   "outputs": [
    {
     "data": {
      "text/plain": [
       "Text(0.5, 1.0, 'Loss')"
      ]
     },
     "execution_count": 20,
     "metadata": {},
     "output_type": "execute_result"
    },
    {
     "data": {
      "image/png": "[encoded data removed]",
      "text/plain": [
       "<Figure size 432x288 with 1 Axes>"
      ]
     },
     "metadata": {
      "needs_background": "light"
     },
     "output_type": "display_data"
    },
    {
     "data": {
      "image/png": "[encoded data removed]",
      "text/plain": [
       "<Figure size 432x288 with 1 Axes>"
      ]
     },
     "metadata": {
      "needs_background": "light"
     },
     "output_type": "display_data"
    }
   ],
   "source": [
    "plt.figure(0)\n",
    "plt.plot(history.history['accuracy'], label='Training accuracy')\n",
    "plt.plot(history.history['val_accuracy'], label='Val accuracy')\n",
    "plt.xlabel('epochs')\n",
    "plt.ylabel('accuracy')\n",
    "plt.legend()\n",
    "plt.title('Accuracy')\n",
    "\n",
    "plt.figure(1)\n",
    "plt.plot(history.history['loss'], label='Training loss')\n",
    "plt.plot(history.history['val_loss'], label='Val loss')\n",
    "plt.xlabel('epochs')\n",
    "plt.ylabel('loss')\n",
    "plt.legend()\n",
    "plt.title('Loss')"
   ]
  },
  {
   "cell_type": "markdown",
   "id": "0c19f210",
   "metadata": {},
   "source": [
    "# Test the model"
   ]
  },
  {
   "cell_type": "code",
   "execution_count": 21,
   "id": "b3beca72",
   "metadata": {},
   "outputs": [],
   "source": [
    "from sklearn.metrics import accuracy_score\n",
    "import pandas as pd"
   ]
  },
  {
   "cell_type": "code",
   "execution_count": 47,
   "id": "ed9ca2f4",
   "metadata": {},
   "outputs": [
    {
     "data": {
      "text/plain": [
       "0.9482185273159145"
      ]
     },
     "execution_count": 47,
     "metadata": {},
     "output_type": "execute_result"
    }
   ],
   "source": [
    "data_folder = 'gtsrb-german-traffic-sign'\n",
    "y_test = pd.read_csv(os.path.join(current_path, data_folder, 'Test.csv'))\n",
    "\n",
    "labels = y_test['ClassId'].values\n",
    "imgs = y_test['Path'].values\n",
    "\n",
    "test_data = []\n",
    "\n",
    "for img in imgs:\n",
    "    path_to_image = os.path.join(current_path, data_folder, img)\n",
    "    \n",
    "    image = Image.open(path_to_image)\n",
    "    image = image.resize((30, 30))\n",
    "    image = np.array(image)\n",
    "    test_data.append(image)\n",
    "    \n",
    "X_test = np.array(test_data)\n",
    "\n",
    "pred = model.predict(X_test)\n",
    "\n",
    "pred_classes = np.argmax(pred, axis=1)\n",
    "pred_score = np.max(pred, axis=1)"
   ]
  },
  {
   "cell_type": "code",
   "execution_count": 48,
   "id": "fd536d44",
   "metadata": {},
   "outputs": [
    {
     "data": {
      "text/plain": [
       "0.9482185273159145"
      ]
     },
     "execution_count": 48,
     "metadata": {},
     "output_type": "execute_result"
    }
   ],
   "source": [
    "# test accuracy\n",
    "accuracy_score(labels, pred_classes)"
   ]
  },
  {
   "cell_type": "code",
   "execution_count": 49,
   "id": "bd54d854",
   "metadata": {},
   "outputs": [],
   "source": [
    "model.save('traffic_signs_classifier.h5')"
   ]
  },
  {
   "cell_type": "code",
   "execution_count": null,
   "id": "a0a18a35",
   "metadata": {},
   "outputs": [],
   "source": []
  },
  {
   "cell_type": "markdown",
   "id": "80b0aa8b",
   "metadata": {},
   "source": [
    "# Make a GUI"
   ]
  },
  {
   "cell_type": "code",
   "execution_count": 57,
   "id": "0a51e6f9",
   "metadata": {},
   "outputs": [
    {
     "name": "stdout",
     "output_type": "stream",
     "text": [
      "No vehicles\n",
      "Priority road\n",
      "No passing veh over 3.5 tons\n",
      "End of no passing\n",
      "No entry\n",
      "Stop\n",
      "Roundabout mandatory\n"
     ]
    }
   ],
   "source": [
    "import tkinter as tk\n",
    "from tkinter import filedialog\n",
    "from tkinter import *\n",
    "from PIL import ImageTk, Image\n",
    "\n",
    "import numpy\n",
    "#load the trained model to classify sign\n",
    "from keras.models import load_model\n",
    "model = load_model('traffic_signs_classifier.h5')\n",
    "\n",
    "#dictionary to label all traffic signs class.\n",
    "classes = { 1:'Speed limit (20km/h)',\n",
    "            2:'Speed limit (30km/h)', \n",
    "            3:'Speed limit (50km/h)', \n",
    "            4:'Speed limit (60km/h)', \n",
    "            5:'Speed limit (70km/h)', \n",
    "            6:'Speed limit (80km/h)', \n",
    "            7:'End of speed limit (80km/h)', \n",
    "            8:'Speed limit (100km/h)', \n",
    "            9:'Speed limit (120km/h)', \n",
    "            10:'No passing', \n",
    "            11:'No passing veh over 3.5 tons', \n",
    "            12:'Right-of-way at intersection', \n",
    "            13:'Priority road', \n",
    "            14:'Yield', \n",
    "            15:'Stop', \n",
    "            16:'No vehicles', \n",
    "            17:'Veh > 3.5 tons prohibited', \n",
    "            18:'No entry', \n",
    "            19:'General caution', \n",
    "            20:'Dangerous curve left', \n",
    "            21:'Dangerous curve right', \n",
    "            22:'Double curve', \n",
    "            23:'Bumpy road', \n",
    "            24:'Slippery road', \n",
    "            25:'Road narrows on the right', \n",
    "            26:'Road work', \n",
    "            27:'Traffic signals', \n",
    "            28:'Pedestrians', \n",
    "            29:'Children crossing', \n",
    "            30:'Bicycles crossing', \n",
    "            31:'Beware of ice/snow',\n",
    "            32:'Wild animals crossing', \n",
    "            33:'End speed + passing limits', \n",
    "            34:'Turn right ahead', \n",
    "            35:'Turn left ahead', \n",
    "            36:'Ahead only', \n",
    "            37:'Go straight or right', \n",
    "            38:'Go straight or left', \n",
    "            39:'Keep right', \n",
    "            40:'Keep left', \n",
    "            41:'Roundabout mandatory', \n",
    "            42:'End of no passing', \n",
    "            43:'End no passing veh > 3.5 tons' }\n",
    "\n",
    "#initialise GUI\n",
    "top=tk.Tk()\n",
    "top.geometry('800x600')\n",
    "top.title('Traffic sign classification')\n",
    "top.configure(background='#CDCDCD')\n",
    "\n",
    "label=Label(top,background='#CDCDCD', font=('arial',15,'bold'))\n",
    "sign_image = Label(top)\n",
    "\n",
    "def classify(file_path):\n",
    "    global label_packed\n",
    "    image = Image.open(file_path)\n",
    "    image = image.resize((30,30))\n",
    "    image = numpy.expand_dims(image, axis=0)\n",
    "    image = numpy.array(image)\n",
    "    #pred = model.predict_classes([image])[0]\n",
    "    pred = np.argmax(model.predict([image])[0])\n",
    "    sign = classes[pred+1]\n",
    "    print(sign)\n",
    "    label.configure(foreground='#011638', text=sign) \n",
    "\n",
    "def show_classify_button(file_path):\n",
    "    classify_b=Button(top,text=\"Classify Image\",command=lambda: classify(file_path),padx=10,pady=5)\n",
    "    classify_b.configure(background='#364156', foreground='white',font=('arial',10,'bold'))\n",
    "    classify_b.place(relx=0.79,rely=0.46)\n",
    "\n",
    "def upload_image():\n",
    "    try:\n",
    "        file_path=filedialog.askopenfilename()\n",
    "        uploaded=Image.open(file_path)\n",
    "        uploaded.thumbnail(((top.winfo_width()/2.25),(top.winfo_height()/2.25)))\n",
    "        im=ImageTk.PhotoImage(uploaded)\n",
    "\n",
    "        sign_image.configure(image=im)\n",
    "        sign_image.image=im\n",
    "        label.configure(text='')\n",
    "        show_classify_button(file_path)\n",
    "    except:\n",
    "        pass\n",
    "\n",
    "upload=Button(top,text=\"Upload an image\",command=upload_image,padx=10,pady=5)\n",
    "upload.configure(background='#364156', foreground='white',font=('arial',10,'bold'))\n",
    "\n",
    "upload.pack(side=BOTTOM,pady=50)\n",
    "sign_image.pack(side=BOTTOM,expand=True)\n",
    "label.pack(side=BOTTOM,expand=True)\n",
    "heading = Label(top, text=\"Know Your Traffic Sign\",pady=20, font=('arial',20,'bold'))\n",
    "heading.configure(background='#CDCDCD',foreground='#364156')\n",
    "heading.pack()\n",
    "top.mainloop()"
   ]
  },
  {
   "cell_type": "code",
   "execution_count": null,
   "id": "9b369ff2",
   "metadata": {},
   "outputs": [],
   "source": []
  }
 ],
 "metadata": {
  "kernelspec": {
   "display_name": "Python 3 (ipykernel)",
   "language": "python",
   "name": "python3"
  },
  "language_info": {
   "codemirror_mode": {
    "name": "ipython",
    "version": 3
   },
   "file_extension": ".py",
   "mimetype": "text/x-python",
   "name": "python",
   "nbconvert_exporter": "python",
   "pygments_lexer": "ipython3",
   "version": "3.9.7"
  }
 },
 "nbformat": 4,
 "nbformat_minor": 5
}
